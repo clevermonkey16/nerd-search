{
 "cells": [
  {
   "cell_type": "code",
   "execution_count": 2,
   "metadata": {
    "ExecuteTime": {
     "end_time": "2024-04-07T21:03:51.559068Z",
     "start_time": "2024-04-07T21:03:24.353723Z"
    },
    "collapsed": true
   },
   "outputs": [],
   "source": [
    "import nltk\n",
    "import gensim\n",
    "from gensim.models import KeyedVectors\n",
    "from nltk.tokenize import sent_tokenize, word_tokenize\n",
    "import warnings\n",
    "\n",
    "model = gensim.models.KeyedVectors.load_word2vec_format('GoogleNews-vectors-negative300.bin', binary=True)\n",
    "# GoogleNews-vectors-negative300.bin is pretrained word2vec model by Google for word similarity\n",
    "\n",
    "# documentation\n"
   ]
  },
  {
   "cell_type": "code",
   "execution_count": 3,
   "metadata": {
    "ExecuteTime": {
     "end_time": "2024-04-07T21:03:51.574139Z",
     "start_time": "2024-04-07T21:03:51.561458Z"
    },
    "collapsed": false
   },
   "outputs": [
    {
     "name": "stdout",
     "output_type": "stream",
     "text": [
      "done\n",
      "0.84307635\n"
     ]
    }
   ],
   "source": [
    "\n",
    "print('done')\n",
    "print(model.similarity(\"engine\", \"engines\"))\n",
    "# similarity of two words (no spaces, no special characters\n"
   ]
  },
  {
   "cell_type": "code",
   "execution_count": 5,
   "metadata": {
    "ExecuteTime": {
     "end_time": "2024-04-07T21:05:51.555392Z",
     "start_time": "2024-04-07T21:05:48.818770Z"
    },
    "collapsed": false
   },
   "outputs": [
    {
     "name": "stdout",
     "output_type": "stream",
     "text": [
      "0.5770128693304132\n"
     ]
    }
   ],
   "source": [
    "ds = 'data science'.lower().split()\n",
    "cs = 'computer science'.lower().split()\n",
    "print(model.wmdistance(ds, cs)) # tries similarity of 2 sentences somehow"
   ]
  },
  {
   "cell_type": "code",
   "execution_count": 14,
   "metadata": {
    "ExecuteTime": {
     "end_time": "2024-04-07T22:04:51.647713Z",
     "start_time": "2024-04-07T22:04:48.544564Z"
    },
    "collapsed": false
   },
   "outputs": [
    {
     "name": "stdout",
     "output_type": "stream",
     "text": [
      "cybersecurity\n",
      "security\n",
      "architectures\n",
      "literacy\n",
      "century\n",
      "buyers\n",
      "ancestry\n",
      "recruiters\n",
      "cybercoders\n",
      "accurately\n",
      "currencies\n",
      "architecture\n",
      "secretary\n",
      "bioreactors\n",
      "chemistry\n",
      "cyber\n",
      "treasury\n",
      "pictures\n",
      "richest\n",
      "credits\n",
      "directs\n",
      "bacterial\n",
      "society\n",
      "biotherapeutics\n",
      "recruit\n",
      "directly\n",
      "accenture's\n",
      "centrifuges\n",
      "cluster\n",
      "articles\n",
      "contributes\n",
      "certificates\n",
      "reimbursement\n",
      "biochemistry\n",
      "category\n",
      "practices\n",
      "picture\n",
      "therapeutics\n",
      "discretionary\n",
      "electronics\n",
      "prescribe\n",
      "course\n",
      "source\n",
      "urgency\n",
      "metrics\n",
      "matrices\n",
      "residency\n",
      "registry\n",
      "countries\n",
      "recruited\n",
      "traceability\n",
      "characteristic\n",
      "psychometric\n",
      "surface\n",
      "securities\n",
      "prescribed\n",
      "recruiter\n",
      "cruises\n",
      "accurate\n",
      "econometrics\n",
      "direct\n",
      "credit\n",
      "semiconductor\n",
      "curated\n",
      "describe\n",
      "elasticsearch\n",
      "bioreactor\n",
      "microstrategy\n",
      "architectural\n",
      "currently\n",
      "discrete\n",
      "battery\n",
      "characteristics\n",
      "pharmaceuticals\n",
      "spectrometry\n",
      "directors\n",
      "reinsurance\n",
      "carries\n",
      "microservice\n",
      "curate\n",
      "circumstances\n",
      "accessibility\n",
      "sector\n",
      "certain\n",
      "architects\n",
      "reality\n",
      "characterize\n",
      "capture\n",
      "correctly\n",
      "reproductive\n",
      "prices\n",
      "curiosity\n",
      "reproducible\n",
      "terabytes\n",
      "lectures\n",
      "outreach\n",
      "cryopreservation\n",
      "coopersurgical\n",
      "creatively\n",
      "corrective\n"
     ]
    }
   ],
   "source": [
    "import csv, json\n",
    "\n",
    "dsfile = json.load(open(\"ds.json\", encoding='utf8', newline=''))\n",
    "\n",
    "dskeys = dsfile.keys()\n",
    "\n",
    "sortedkeys = sorted(dskeys, key=lambda x : model.wmdistance('cybersecurity', x))\n",
    "    # sort a list of words by their similarity to cybersecurity\n",
    "\n",
    "for i in range(100):\n",
    "    print(sortedkeys[i])\n"
   ]
  },
  {
   "cell_type": "code",
   "execution_count": null,
   "metadata": {
    "collapsed": false
   },
   "outputs": [],
   "source": []
  }
 ],
 "metadata": {
  "kernelspec": {
   "display_name": "Python 3.10.7 64-bit",
   "language": "python",
   "name": "python3"
  },
  "language_info": {
   "codemirror_mode": {
    "name": "ipython",
    "version": 2
   },
   "file_extension": ".py",
   "mimetype": "text/x-python",
   "name": "python",
   "nbconvert_exporter": "python",
   "pygments_lexer": "ipython2",
   "version": "3.10.7"
  },
  "vscode": {
   "interpreter": {
    "hash": "aee8b7b246df8f9039afb4144a1f6fd8d2ca17a180786b69acc140d282b71a49"
   }
  }
 },
 "nbformat": 4,
 "nbformat_minor": 0
}
